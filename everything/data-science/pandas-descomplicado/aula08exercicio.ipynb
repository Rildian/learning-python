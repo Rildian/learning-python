{
 "cells": [
  {
   "cell_type": "code",
   "execution_count": 1,
   "id": "f905755d",
   "metadata": {},
   "outputs": [],
   "source": [
    "import pandas as pd\n",
    "import numpy as np"
   ]
  },
  {
   "cell_type": "code",
   "execution_count": 2,
   "id": "dafe0bec",
   "metadata": {},
   "outputs": [],
   "source": [
    "dataset = pd.read_csv('AirPassengers.csv')"
   ]
  },
  {
   "cell_type": "code",
   "execution_count": 3,
   "id": "445209c1",
   "metadata": {},
   "outputs": [
    {
     "data": {
      "text/html": [
       "<div>\n",
       "<style scoped>\n",
       "    .dataframe tbody tr th:only-of-type {\n",
       "        vertical-align: middle;\n",
       "    }\n",
       "\n",
       "    .dataframe tbody tr th {\n",
       "        vertical-align: top;\n",
       "    }\n",
       "\n",
       "    .dataframe thead th {\n",
       "        text-align: right;\n",
       "    }\n",
       "</style>\n",
       "<table border=\"1\" class=\"dataframe\">\n",
       "  <thead>\n",
       "    <tr style=\"text-align: right;\">\n",
       "      <th></th>\n",
       "      <th>Month</th>\n",
       "      <th>#Passengers</th>\n",
       "    </tr>\n",
       "  </thead>\n",
       "  <tbody>\n",
       "    <tr>\n",
       "      <th>0</th>\n",
       "      <td>1949-01</td>\n",
       "      <td>112</td>\n",
       "    </tr>\n",
       "    <tr>\n",
       "      <th>1</th>\n",
       "      <td>1949-02</td>\n",
       "      <td>118</td>\n",
       "    </tr>\n",
       "    <tr>\n",
       "      <th>2</th>\n",
       "      <td>1949-03</td>\n",
       "      <td>132</td>\n",
       "    </tr>\n",
       "    <tr>\n",
       "      <th>3</th>\n",
       "      <td>1949-04</td>\n",
       "      <td>129</td>\n",
       "    </tr>\n",
       "    <tr>\n",
       "      <th>4</th>\n",
       "      <td>1949-05</td>\n",
       "      <td>121</td>\n",
       "    </tr>\n",
       "    <tr>\n",
       "      <th>...</th>\n",
       "      <td>...</td>\n",
       "      <td>...</td>\n",
       "    </tr>\n",
       "    <tr>\n",
       "      <th>139</th>\n",
       "      <td>1960-08</td>\n",
       "      <td>606</td>\n",
       "    </tr>\n",
       "    <tr>\n",
       "      <th>140</th>\n",
       "      <td>1960-09</td>\n",
       "      <td>508</td>\n",
       "    </tr>\n",
       "    <tr>\n",
       "      <th>141</th>\n",
       "      <td>1960-10</td>\n",
       "      <td>461</td>\n",
       "    </tr>\n",
       "    <tr>\n",
       "      <th>142</th>\n",
       "      <td>1960-11</td>\n",
       "      <td>390</td>\n",
       "    </tr>\n",
       "    <tr>\n",
       "      <th>143</th>\n",
       "      <td>1960-12</td>\n",
       "      <td>432</td>\n",
       "    </tr>\n",
       "  </tbody>\n",
       "</table>\n",
       "<p>144 rows × 2 columns</p>\n",
       "</div>"
      ],
      "text/plain": [
       "       Month  #Passengers\n",
       "0    1949-01          112\n",
       "1    1949-02          118\n",
       "2    1949-03          132\n",
       "3    1949-04          129\n",
       "4    1949-05          121\n",
       "..       ...          ...\n",
       "139  1960-08          606\n",
       "140  1960-09          508\n",
       "141  1960-10          461\n",
       "142  1960-11          390\n",
       "143  1960-12          432\n",
       "\n",
       "[144 rows x 2 columns]"
      ]
     },
     "execution_count": 3,
     "metadata": {},
     "output_type": "execute_result"
    }
   ],
   "source": [
    "dataset"
   ]
  },
  {
   "cell_type": "code",
   "execution_count": 4,
   "id": "9cae92c2",
   "metadata": {},
   "outputs": [
    {
     "data": {
      "text/plain": [
       "pandas.core.frame.DataFrame"
      ]
     },
     "execution_count": 4,
     "metadata": {},
     "output_type": "execute_result"
    }
   ],
   "source": [
    "type(dataset)"
   ]
  },
  {
   "cell_type": "code",
   "execution_count": 5,
   "id": "4e7444fa",
   "metadata": {},
   "outputs": [
    {
     "data": {
      "text/html": [
       "<div>\n",
       "<style scoped>\n",
       "    .dataframe tbody tr th:only-of-type {\n",
       "        vertical-align: middle;\n",
       "    }\n",
       "\n",
       "    .dataframe tbody tr th {\n",
       "        vertical-align: top;\n",
       "    }\n",
       "\n",
       "    .dataframe thead th {\n",
       "        text-align: right;\n",
       "    }\n",
       "</style>\n",
       "<table border=\"1\" class=\"dataframe\">\n",
       "  <thead>\n",
       "    <tr style=\"text-align: right;\">\n",
       "      <th></th>\n",
       "      <th>Month</th>\n",
       "      <th>#Passengers</th>\n",
       "    </tr>\n",
       "  </thead>\n",
       "  <tbody>\n",
       "    <tr>\n",
       "      <th>0</th>\n",
       "      <td>1949-01</td>\n",
       "      <td>112</td>\n",
       "    </tr>\n",
       "    <tr>\n",
       "      <th>1</th>\n",
       "      <td>1949-02</td>\n",
       "      <td>118</td>\n",
       "    </tr>\n",
       "    <tr>\n",
       "      <th>2</th>\n",
       "      <td>1949-03</td>\n",
       "      <td>132</td>\n",
       "    </tr>\n",
       "    <tr>\n",
       "      <th>3</th>\n",
       "      <td>1949-04</td>\n",
       "      <td>129</td>\n",
       "    </tr>\n",
       "    <tr>\n",
       "      <th>4</th>\n",
       "      <td>1949-05</td>\n",
       "      <td>121</td>\n",
       "    </tr>\n",
       "    <tr>\n",
       "      <th>...</th>\n",
       "      <td>...</td>\n",
       "      <td>...</td>\n",
       "    </tr>\n",
       "    <tr>\n",
       "      <th>139</th>\n",
       "      <td>1960-08</td>\n",
       "      <td>606</td>\n",
       "    </tr>\n",
       "    <tr>\n",
       "      <th>140</th>\n",
       "      <td>1960-09</td>\n",
       "      <td>508</td>\n",
       "    </tr>\n",
       "    <tr>\n",
       "      <th>141</th>\n",
       "      <td>1960-10</td>\n",
       "      <td>461</td>\n",
       "    </tr>\n",
       "    <tr>\n",
       "      <th>142</th>\n",
       "      <td>1960-11</td>\n",
       "      <td>390</td>\n",
       "    </tr>\n",
       "    <tr>\n",
       "      <th>143</th>\n",
       "      <td>1960-12</td>\n",
       "      <td>432</td>\n",
       "    </tr>\n",
       "  </tbody>\n",
       "</table>\n",
       "<p>144 rows × 2 columns</p>\n",
       "</div>"
      ],
      "text/plain": [
       "       Month  #Passengers\n",
       "0    1949-01          112\n",
       "1    1949-02          118\n",
       "2    1949-03          132\n",
       "3    1949-04          129\n",
       "4    1949-05          121\n",
       "..       ...          ...\n",
       "139  1960-08          606\n",
       "140  1960-09          508\n",
       "141  1960-10          461\n",
       "142  1960-11          390\n",
       "143  1960-12          432\n",
       "\n",
       "[144 rows x 2 columns]"
      ]
     },
     "execution_count": 5,
     "metadata": {},
     "output_type": "execute_result"
    }
   ],
   "source": [
    "dataset"
   ]
  },
  {
   "cell_type": "code",
   "execution_count": 6,
   "id": "e25404ba",
   "metadata": {},
   "outputs": [
    {
     "data": {
      "text/plain": [
       "Month\n",
       "1949-01    112\n",
       "1949-02    118\n",
       "1949-03    132\n",
       "1949-04    129\n",
       "1949-05    121\n",
       "          ... \n",
       "1960-08    606\n",
       "1960-09    508\n",
       "1960-10    461\n",
       "1960-11    390\n",
       "1960-12    432\n",
       "Length: 144, dtype: int64"
      ]
     },
     "execution_count": 6,
     "metadata": {},
     "output_type": "execute_result"
    }
   ],
   "source": [
    "series_ds = dataset.copy()\n",
    "series_ds = pd.Series(np.array(series_ds['#Passengers']), index=series_ds['Month'])\n",
    "series_ds"
   ]
  },
  {
   "cell_type": "code",
   "execution_count": 7,
   "id": "2ebe632f",
   "metadata": {},
   "outputs": [
    {
     "data": {
      "text/plain": [
       "pandas.core.series.Series"
      ]
     },
     "execution_count": 7,
     "metadata": {},
     "output_type": "execute_result"
    }
   ],
   "source": [
    "type(series_ds)"
   ]
  },
  {
   "cell_type": "code",
   "execution_count": 8,
   "id": "896e5a48",
   "metadata": {},
   "outputs": [
    {
     "data": {
      "text/plain": [
       "Index(['1949-01', '1949-02', '1949-03', '1949-04', '1949-05', '1949-06',\n",
       "       '1949-07', '1949-08', '1949-09', '1949-10',\n",
       "       ...\n",
       "       '1960-03', '1960-04', '1960-05', '1960-06', '1960-07', '1960-08',\n",
       "       '1960-09', '1960-10', '1960-11', '1960-12'],\n",
       "      dtype='object', name='Month', length=144)"
      ]
     },
     "execution_count": 8,
     "metadata": {},
     "output_type": "execute_result"
    }
   ],
   "source": [
    "series_ds.index"
   ]
  },
  {
   "cell_type": "code",
   "execution_count": 9,
   "id": "242bd80a",
   "metadata": {},
   "outputs": [
    {
     "data": {
      "text/plain": [
       "dtype('int64')"
      ]
     },
     "execution_count": 9,
     "metadata": {},
     "output_type": "execute_result"
    }
   ],
   "source": [
    "series_ds.dtype # dtype(int64) n consegui"
   ]
  },
  {
   "cell_type": "code",
   "execution_count": 10,
   "id": "b8b29bc5",
   "metadata": {},
   "outputs": [
    {
     "data": {
      "text/plain": [
       "1"
      ]
     },
     "execution_count": 10,
     "metadata": {},
     "output_type": "execute_result"
    }
   ],
   "source": [
    "series_ds.ndim"
   ]
  },
  {
   "cell_type": "code",
   "execution_count": 11,
   "id": "295082d7",
   "metadata": {},
   "outputs": [
    {
     "data": {
      "text/plain": [
       "144"
      ]
     },
     "execution_count": 11,
     "metadata": {},
     "output_type": "execute_result"
    }
   ],
   "source": [
    "series_ds.count()"
   ]
  },
  {
   "cell_type": "code",
   "execution_count": 12,
   "id": "885434a4",
   "metadata": {},
   "outputs": [
    {
     "data": {
      "text/plain": [
       "Month\n",
       "1949-01    112\n",
       "1949-02    118\n",
       "1949-03    132\n",
       "1949-04    129\n",
       "1949-05    121\n",
       "dtype: int64"
      ]
     },
     "execution_count": 12,
     "metadata": {},
     "output_type": "execute_result"
    }
   ],
   "source": [
    "series_ds[0:5]\n",
    "series_ds.head(5)"
   ]
  },
  {
   "cell_type": "code",
   "execution_count": 13,
   "id": "010bea1b",
   "metadata": {},
   "outputs": [
    {
     "data": {
      "text/plain": [
       "Month\n",
       "1960-08    606\n",
       "1960-09    508\n",
       "1960-10    461\n",
       "1960-11    390\n",
       "1960-12    432\n",
       "dtype: int64"
      ]
     },
     "execution_count": 13,
     "metadata": {},
     "output_type": "execute_result"
    }
   ],
   "source": [
    "series_ds.tail(5)"
   ]
  },
  {
   "cell_type": "code",
   "execution_count": 14,
   "id": "cbffe07d",
   "metadata": {},
   "outputs": [
    {
     "data": {
      "text/plain": [
       "112"
      ]
     },
     "execution_count": 14,
     "metadata": {},
     "output_type": "execute_result"
    }
   ],
   "source": [
    "series_ds.iloc[0]"
   ]
  },
  {
   "cell_type": "code",
   "execution_count": 15,
   "id": "4b7284b5",
   "metadata": {},
   "outputs": [
    {
     "data": {
      "text/plain": [
       "Month\n",
       "1949-01    112\n",
       "1949-02    118\n",
       "1949-03    132\n",
       "1949-04    129\n",
       "dtype: int64"
      ]
     },
     "execution_count": 15,
     "metadata": {},
     "output_type": "execute_result"
    }
   ],
   "source": [
    "series_ds[0:4]"
   ]
  },
  {
   "cell_type": "code",
   "execution_count": 16,
   "id": "f2fecc4c",
   "metadata": {},
   "outputs": [
    {
     "data": {
      "text/plain": [
       "432"
      ]
     },
     "execution_count": 16,
     "metadata": {},
     "output_type": "execute_result"
    }
   ],
   "source": [
    "series_ds.iloc[-1]"
   ]
  },
  {
   "cell_type": "code",
   "execution_count": 17,
   "id": "ee18fade",
   "metadata": {},
   "outputs": [
    {
     "data": {
      "text/plain": [
       "606"
      ]
     },
     "execution_count": 17,
     "metadata": {},
     "output_type": "execute_result"
    }
   ],
   "source": [
    "series_ds.loc['1960-08']"
   ]
  },
  {
   "cell_type": "code",
   "execution_count": 18,
   "id": "e958073d",
   "metadata": {},
   "outputs": [
    {
     "data": {
      "text/plain": [
       "Month\n",
       "1960-08    606\n",
       "1960-09    508\n",
       "1960-10    461\n",
       "1960-11    390\n",
       "1960-12    432\n",
       "dtype: int64"
      ]
     },
     "execution_count": 18,
     "metadata": {},
     "output_type": "execute_result"
    }
   ],
   "source": [
    "series_ds.tail(5)"
   ]
  },
  {
   "cell_type": "code",
   "execution_count": 19,
   "id": "2f20ebf2",
   "metadata": {},
   "outputs": [
    {
     "data": {
      "text/plain": [
       "Month\n",
       "1949-11    104\n",
       "1949-01    112\n",
       "1950-11    114\n",
       "1950-01    115\n",
       "1949-02    118\n",
       "          ... \n",
       "1960-06    535\n",
       "1959-07    548\n",
       "1959-08    559\n",
       "1960-08    606\n",
       "1960-07    622\n",
       "Length: 144, dtype: int64"
      ]
     },
     "execution_count": 19,
     "metadata": {},
     "output_type": "execute_result"
    }
   ],
   "source": [
    "series_ds.sort_values()"
   ]
  },
  {
   "cell_type": "code",
   "execution_count": 20,
   "id": "231e2276",
   "metadata": {},
   "outputs": [
    {
     "data": {
      "text/plain": [
       "Month\n",
       "1960-08    606\n",
       "1960-09    508\n",
       "1960-10    461\n",
       "1960-11    390\n",
       "1960-12    432\n",
       "dtype: int64"
      ]
     },
     "execution_count": 20,
     "metadata": {},
     "output_type": "execute_result"
    }
   ],
   "source": [
    "series_ds[\"1960-08\":\"1960-12\"] "
   ]
  },
  {
   "cell_type": "code",
   "execution_count": 21,
   "id": "61c13c61",
   "metadata": {},
   "outputs": [
    {
     "data": {
      "text/plain": [
       "Month\n",
       "1960-07    622\n",
       "1960-08    606\n",
       "1959-08    559\n",
       "1959-07    548\n",
       "1960-06    535\n",
       "          ... \n",
       "1949-12    118\n",
       "1950-01    115\n",
       "1950-11    114\n",
       "1949-01    112\n",
       "1949-11    104\n",
       "Length: 144, dtype: int64"
      ]
     },
     "execution_count": 21,
     "metadata": {},
     "output_type": "execute_result"
    }
   ],
   "source": [
    "series_ds.sort_values(ascending=False)"
   ]
  },
  {
   "cell_type": "code",
   "execution_count": 22,
   "id": "1322c84e",
   "metadata": {},
   "outputs": [
    {
     "data": {
      "text/plain": [
       "Month\n",
       "1949-11    104\n",
       "1949-01    112\n",
       "1950-11    114\n",
       "1950-01    115\n",
       "1949-02    118\n",
       "          ... \n",
       "1960-06    535\n",
       "1959-07    548\n",
       "1959-08    559\n",
       "1960-08    606\n",
       "1960-07    622\n",
       "Length: 144, dtype: int64"
      ]
     },
     "execution_count": 22,
     "metadata": {},
     "output_type": "execute_result"
    }
   ],
   "source": [
    "series_ds.sort_values(ascending=True)"
   ]
  },
  {
   "cell_type": "code",
   "execution_count": 23,
   "id": "8a3c1a23",
   "metadata": {},
   "outputs": [
    {
     "data": {
      "text/plain": [
       "229    3\n",
       "306    2\n",
       "405    2\n",
       "242    2\n",
       "196    2\n",
       "      ..\n",
       "191    1\n",
       "209    1\n",
       "230    1\n",
       "218    1\n",
       "432    1\n",
       "Name: count, Length: 118, dtype: int64"
      ]
     },
     "execution_count": 23,
     "metadata": {},
     "output_type": "execute_result"
    }
   ],
   "source": [
    "series_ds.value_counts()"
   ]
  },
  {
   "cell_type": "code",
   "execution_count": 24,
   "id": "d25f16f1",
   "metadata": {},
   "outputs": [
    {
     "data": {
      "text/plain": [
       "Month\n",
       "1954-07    302\n",
       "1955-06    315\n",
       "1955-07    364\n",
       "1955-08    347\n",
       "1955-09    312\n",
       "          ... \n",
       "1960-08    606\n",
       "1960-09    508\n",
       "1960-10    461\n",
       "1960-11    390\n",
       "1960-12    432\n",
       "Length: 62, dtype: int64"
      ]
     },
     "execution_count": 24,
     "metadata": {},
     "output_type": "execute_result"
    }
   ],
   "source": [
    "series_ds.loc[series_ds > 300]"
   ]
  },
  {
   "cell_type": "code",
   "execution_count": 25,
   "id": "ee84a71a",
   "metadata": {},
   "outputs": [
    {
     "data": {
      "text/plain": [
       "Month\n",
       "1954-07    302\n",
       "dtype: int64"
      ]
     },
     "execution_count": 25,
     "metadata": {},
     "output_type": "execute_result"
    }
   ],
   "source": [
    "series_ds.loc[series_ds > 300].head(1)"
   ]
  },
  {
   "cell_type": "code",
   "execution_count": 26,
   "id": "e6ab8200",
   "metadata": {},
   "outputs": [],
   "source": [
    "# Menores do que 1950-08 (N CONSEGUI)"
   ]
  },
  {
   "cell_type": "code",
   "execution_count": 27,
   "id": "f66c4051",
   "metadata": {},
   "outputs": [
    {
     "data": {
      "text/plain": [
       "Month\n",
       "1949-01    112\n",
       "1949-02    118\n",
       "1949-03    132\n",
       "1949-04    129\n",
       "1949-05    121\n",
       "1949-06    135\n",
       "1949-07    148\n",
       "1949-08    148\n",
       "1949-09    136\n",
       "1949-10    119\n",
       "1949-11    104\n",
       "1949-12    118\n",
       "1950-01    115\n",
       "1950-02    126\n",
       "1950-03    141\n",
       "1950-04    135\n",
       "1950-05    125\n",
       "1950-06    149\n",
       "1950-07    170\n",
       "dtype: int64"
      ]
     },
     "execution_count": 27,
     "metadata": {},
     "output_type": "execute_result"
    }
   ],
   "source": [
    "series_ds.loc[series_ds.index < \"1950-08\"]"
   ]
  },
  {
   "cell_type": "code",
   "execution_count": 28,
   "id": "c4624dec",
   "metadata": {},
   "outputs": [
    {
     "data": {
      "text/plain": [
       "Month\n",
       "1949-02    118\n",
       "1949-03    132\n",
       "1949-04    129\n",
       "1949-05    121\n",
       "1949-06    135\n",
       "1949-07    148\n",
       "1949-08    148\n",
       "1949-09    136\n",
       "1949-10    119\n",
       "1949-11    104\n",
       "1949-12    118\n",
       "dtype: int64"
      ]
     },
     "execution_count": 28,
     "metadata": {},
     "output_type": "execute_result"
    }
   ],
   "source": [
    "# Entre 1949-01 e 1950-01\n",
    "series_ds[\"1949-02\":\"1949-12\"]\n",
    "series_ds.loc[(series_ds.index > \"1949-01\") & (series_ds.index < \"1950-01\")]"
   ]
  },
  {
   "cell_type": "code",
   "execution_count": 29,
   "id": "a884cf77",
   "metadata": {},
   "outputs": [
    {
     "data": {
      "text/plain": [
       "40363"
      ]
     },
     "execution_count": 29,
     "metadata": {},
     "output_type": "execute_result"
    }
   ],
   "source": [
    "series_ds.sum()"
   ]
  },
  {
   "cell_type": "code",
   "execution_count": 30,
   "id": "42b8c1f3",
   "metadata": {},
   "outputs": [
    {
     "data": {
      "text/plain": [
       "280.2986111111111"
      ]
     },
     "execution_count": 30,
     "metadata": {},
     "output_type": "execute_result"
    }
   ],
   "source": [
    "series_ds.mean()"
   ]
  },
  {
   "cell_type": "code",
   "execution_count": 31,
   "id": "751258e9",
   "metadata": {},
   "outputs": [
    {
     "data": {
      "text/plain": [
       "104"
      ]
     },
     "execution_count": 31,
     "metadata": {},
     "output_type": "execute_result"
    }
   ],
   "source": [
    "series_ds.min()"
   ]
  },
  {
   "cell_type": "code",
   "execution_count": 32,
   "id": "595e2058",
   "metadata": {},
   "outputs": [
    {
     "data": {
      "text/plain": [
       "622"
      ]
     },
     "execution_count": 32,
     "metadata": {},
     "output_type": "execute_result"
    }
   ],
   "source": [
    "series_ds.max()"
   ]
  },
  {
   "cell_type": "code",
   "execution_count": 33,
   "id": "7930a52a",
   "metadata": {},
   "outputs": [
    {
     "data": {
      "text/plain": [
       "1520"
      ]
     },
     "execution_count": 33,
     "metadata": {},
     "output_type": "execute_result"
    }
   ],
   "source": [
    "series_ds[\"1949-01\":\"1949-12\"].sum() # Somatório do intervalo 1949-01 e 1949-12"
   ]
  },
  {
   "cell_type": "code",
   "execution_count": 34,
   "id": "941e8c31",
   "metadata": {},
   "outputs": [
    {
     "data": {
      "text/plain": [
       "<bound method Index.unique of Index(['1949-01', '1949-02', '1949-03', '1949-04', '1949-05', '1949-06',\n",
       "       '1949-07', '1949-08', '1949-09', '1949-10',\n",
       "       ...\n",
       "       '1960-03', '1960-04', '1960-05', '1960-06', '1960-07', '1960-08',\n",
       "       '1960-09', '1960-10', '1960-11', '1960-12'],\n",
       "      dtype='object', name='Month', length=144)>"
      ]
     },
     "execution_count": 34,
     "metadata": {},
     "output_type": "execute_result"
    }
   ],
   "source": [
    "series_ds.index.unique"
   ]
  },
  {
   "cell_type": "code",
   "execution_count": 35,
   "id": "334b33b3",
   "metadata": {},
   "outputs": [
    {
     "data": {
      "text/plain": [
       "0"
      ]
     },
     "execution_count": 35,
     "metadata": {},
     "output_type": "execute_result"
    }
   ],
   "source": [
    "series_ds.isna().sum()"
   ]
  },
  {
   "cell_type": "code",
   "execution_count": 36,
   "id": "7f57700a",
   "metadata": {},
   "outputs": [
    {
     "data": {
      "text/plain": [
       "Month\n",
       "1949-01    112\n",
       "1949-02    118\n",
       "1949-03    132\n",
       "1949-04    129\n",
       "1949-05    121\n",
       "          ... \n",
       "1960-08    606\n",
       "1960-09    508\n",
       "1960-10    461\n",
       "1960-11    390\n",
       "1960-12    432\n",
       "Length: 144, dtype: int64"
      ]
     },
     "execution_count": 36,
     "metadata": {},
     "output_type": "execute_result"
    }
   ],
   "source": [
    "series_ds"
   ]
  },
  {
   "cell_type": "code",
   "execution_count": 37,
   "id": "4ee511f9",
   "metadata": {},
   "outputs": [],
   "source": [
    "series_ds_month = pd.to_datetime(series_ds.index, format='%Y-%m')"
   ]
  },
  {
   "cell_type": "code",
   "execution_count": 38,
   "id": "c78fa928",
   "metadata": {},
   "outputs": [
    {
     "data": {
      "text/plain": [
       "dtype('<M8[ns]')"
      ]
     },
     "execution_count": 38,
     "metadata": {},
     "output_type": "execute_result"
    }
   ],
   "source": [
    "series_ds_month.dtype"
   ]
  },
  {
   "cell_type": "code",
   "execution_count": 39,
   "id": "fb691255",
   "metadata": {},
   "outputs": [
    {
     "data": {
      "text/plain": [
       "DatetimeIndex(['1949-01-01', '1949-02-01', '1949-03-01', '1949-04-01',\n",
       "               '1949-05-01', '1949-06-01', '1949-07-01', '1949-08-01',\n",
       "               '1949-09-01', '1949-10-01',\n",
       "               ...\n",
       "               '1960-03-01', '1960-04-01', '1960-05-01', '1960-06-01',\n",
       "               '1960-07-01', '1960-08-01', '1960-09-01', '1960-10-01',\n",
       "               '1960-11-01', '1960-12-01'],\n",
       "              dtype='datetime64[ns]', name='Month', length=144, freq=None)"
      ]
     },
     "execution_count": 39,
     "metadata": {},
     "output_type": "execute_result"
    }
   ],
   "source": [
    "series_ds_month"
   ]
  },
  {
   "cell_type": "code",
   "execution_count": 40,
   "id": "719cb695",
   "metadata": {},
   "outputs": [
    {
     "data": {
      "text/plain": [
       "Index([ 1,  2,  3,  4,  5,  6,  7,  8,  9, 10,\n",
       "       ...\n",
       "        3,  4,  5,  6,  7,  8,  9, 10, 11, 12],\n",
       "      dtype='int32', name='Month', length=144)"
      ]
     },
     "execution_count": 40,
     "metadata": {},
     "output_type": "execute_result"
    }
   ],
   "source": [
    "series_ds_month.month"
   ]
  },
  {
   "cell_type": "code",
   "execution_count": 41,
   "id": "b02a1415",
   "metadata": {},
   "outputs": [
    {
     "data": {
      "text/plain": [
       "Index([1949, 1949, 1949, 1949, 1949, 1949, 1949, 1949, 1949, 1949,\n",
       "       ...\n",
       "       1960, 1960, 1960, 1960, 1960, 1960, 1960, 1960, 1960, 1960],\n",
       "      dtype='int32', name='Month', length=144)"
      ]
     },
     "execution_count": 41,
     "metadata": {},
     "output_type": "execute_result"
    }
   ],
   "source": [
    "series_ds_month.year"
   ]
  },
  {
   "cell_type": "code",
   "execution_count": 42,
   "id": "8c5fbac1",
   "metadata": {},
   "outputs": [
    {
     "data": {
      "text/plain": [
       "4216"
      ]
     },
     "execution_count": 42,
     "metadata": {},
     "output_type": "execute_result"
    }
   ],
   "source": [
    "series_ds[series_ds_month.month == 7].sum()"
   ]
  },
  {
   "cell_type": "code",
   "execution_count": 43,
   "id": "d628ad67",
   "metadata": {},
   "outputs": [
    {
     "data": {
      "text/plain": [
       "1676"
      ]
     },
     "execution_count": 43,
     "metadata": {},
     "output_type": "execute_result"
    }
   ],
   "source": [
    "series_ds[series_ds_month.year == 1950].sum()"
   ]
  },
  {
   "cell_type": "code",
   "execution_count": 45,
   "id": "50890ba7",
   "metadata": {},
   "outputs": [
    {
     "data": {
      "text/plain": [
       "Month\n",
       "1949-01    112\n",
       "1949-02    118\n",
       "1949-03    132\n",
       "1949-04    129\n",
       "1949-05    121\n",
       "          ... \n",
       "1960-08    606\n",
       "1960-09    508\n",
       "1960-10    461\n",
       "1960-11    390\n",
       "1960-12    432\n",
       "Length: 144, dtype: int64"
      ]
     },
     "execution_count": 45,
     "metadata": {},
     "output_type": "execute_result"
    }
   ],
   "source": [
    "series_ds"
   ]
  }
 ],
 "metadata": {
  "kernelspec": {
   "display_name": "base",
   "language": "python",
   "name": "python3"
  },
  "language_info": {
   "codemirror_mode": {
    "name": "ipython",
    "version": 3
   },
   "file_extension": ".py",
   "mimetype": "text/x-python",
   "name": "python",
   "nbconvert_exporter": "python",
   "pygments_lexer": "ipython3",
   "version": "3.12.7"
  }
 },
 "nbformat": 4,
 "nbformat_minor": 5
}
