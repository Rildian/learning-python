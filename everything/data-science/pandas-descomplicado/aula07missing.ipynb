{
 "cells": [
  {
   "cell_type": "code",
   "execution_count": null,
   "id": "f3900497",
   "metadata": {},
   "outputs": [],
   "source": [
    "import pandas as pd\n",
    "import numpy as np"
   ]
  },
  {
   "cell_type": "code",
   "execution_count": null,
   "id": "ae81a1f2",
   "metadata": {},
   "outputs": [],
   "source": [
    "missing = pd.Series(np.array(([1, 2, 3, np.nan, 5, np.nan])))\n",
    "missing"
   ]
  },
  {
   "cell_type": "code",
   "execution_count": null,
   "id": "c805591b",
   "metadata": {},
   "outputs": [],
   "source": [
    "missing.isna() "
   ]
  },
  {
   "cell_type": "code",
   "execution_count": null,
   "id": "28dcaff1",
   "metadata": {},
   "outputs": [],
   "source": [
    "missing.isna().sum()"
   ]
  },
  {
   "cell_type": "code",
   "execution_count": null,
   "id": "e053cfea",
   "metadata": {},
   "outputs": [],
   "source": [
    "missing.value_counts(dropna = False)"
   ]
  },
  {
   "cell_type": "code",
   "execution_count": null,
   "id": "d4c95f5c",
   "metadata": {},
   "outputs": [],
   "source": [
    "missing.fillna(0)"
   ]
  },
  {
   "cell_type": "code",
   "execution_count": null,
   "id": "526329fa",
   "metadata": {},
   "outputs": [],
   "source": [
    "missing.dropna()"
   ]
  },
  {
   "cell_type": "code",
   "execution_count": null,
   "id": "eefb2c28",
   "metadata": {},
   "outputs": [],
   "source": [
    "missing.fillna(missing.mean())"
   ]
  },
  {
   "cell_type": "code",
   "execution_count": null,
   "id": "85c4fff3",
   "metadata": {},
   "outputs": [],
   "source": [
    "missing_categorica = pd.Series([\"Maçã\", \"Banana\", np.nan, \"Pera\", np.nan, np.nan, \"Uva\", \"Uva\", \"Uva\"])\n",
    "missing_categorica"
   ]
  },
  {
   "cell_type": "code",
   "execution_count": null,
   "id": "9512bfdf",
   "metadata": {},
   "outputs": [],
   "source": [
    "missing_categorica.fillna(\"Não informado\")"
   ]
  },
  {
   "cell_type": "code",
   "execution_count": null,
   "id": "6fd9103d",
   "metadata": {},
   "outputs": [],
   "source": [
    "missing_categorica.mode().iloc[0]"
   ]
  },
  {
   "cell_type": "code",
   "execution_count": null,
   "id": "890e48a4",
   "metadata": {},
   "outputs": [],
   "source": [
    "missing_categorica.fillna(missing_categorica.mode().iloc[0])"
   ]
  },
  {
   "cell_type": "code",
   "execution_count": null,
   "id": "2820c039",
   "metadata": {},
   "outputs": [],
   "source": []
  }
 ],
 "metadata": {
  "kernelspec": {
   "display_name": "base",
   "language": "python",
   "name": "python3"
  },
  "language_info": {
   "codemirror_mode": {
    "name": "ipython",
    "version": 3
   },
   "file_extension": ".py",
   "mimetype": "text/x-python",
   "name": "python",
   "nbconvert_exporter": "python",
   "pygments_lexer": "ipython3",
   "version": "3.12.7"
  }
 },
 "nbformat": 4,
 "nbformat_minor": 5
}
