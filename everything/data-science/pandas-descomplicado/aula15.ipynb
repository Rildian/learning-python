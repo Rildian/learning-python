{
 "cells": [
  {
   "cell_type": "code",
   "execution_count": 1,
   "id": "af2325a7",
   "metadata": {},
   "outputs": [],
   "source": [
    "import pandas as pd\n",
    "import numpy as np"
   ]
  },
  {
   "cell_type": "code",
   "execution_count": 2,
   "id": "34c94961",
   "metadata": {},
   "outputs": [],
   "source": [
    "df = pd.read_csv('census.csv')"
   ]
  },
  {
   "cell_type": "code",
   "execution_count": 4,
   "id": "45228df9",
   "metadata": {},
   "outputs": [
    {
     "data": {
      "text/plain": [
       "9"
      ]
     },
     "execution_count": 4,
     "metadata": {},
     "output_type": "execute_result"
    }
   ],
   "source": [
    "df['workclass'].nunique()"
   ]
  },
  {
   "cell_type": "code",
   "execution_count": 8,
   "id": "4ed4a3d2",
   "metadata": {},
   "outputs": [],
   "source": [
    "df['hour-per-month'] = df['hour-per-week']*4"
   ]
  },
  {
   "cell_type": "code",
   "execution_count": 9,
   "id": "9666eee5",
   "metadata": {},
   "outputs": [
    {
     "data": {
      "text/plain": [
       "0        160\n",
       "1         52\n",
       "2        160\n",
       "3        160\n",
       "4        160\n",
       "        ... \n",
       "32556    152\n",
       "32557    160\n",
       "32558    160\n",
       "32559     80\n",
       "32560    160\n",
       "Name: hour-per-month, Length: 32561, dtype: int64"
      ]
     },
     "execution_count": 9,
     "metadata": {},
     "output_type": "execute_result"
    }
   ],
   "source": [
    "df['hour-per-month']"
   ]
  },
  {
   "cell_type": "code",
   "execution_count": 5,
   "id": "dc94a1f2",
   "metadata": {},
   "outputs": [
    {
     "data": {
      "text/plain": [
       "array([' State-gov', ' Self-emp-not-inc', ' Private', ' Federal-gov',\n",
       "       ' Local-gov', ' ?', ' Self-emp-inc', ' Without-pay',\n",
       "       ' Never-worked'], dtype=object)"
      ]
     },
     "execution_count": 5,
     "metadata": {},
     "output_type": "execute_result"
    }
   ],
   "source": [
    "df['workclass'].unique()"
   ]
  },
  {
   "cell_type": "code",
   "execution_count": 11,
   "id": "15adb031",
   "metadata": {},
   "outputs": [
    {
     "data": {
      "text/plain": [
       "workclass\n",
       "Self-emp-inc        195.272401\n",
       "Self-emp-not-inc    177.687525\n",
       "Federal-gov         165.516667\n",
       "Local-gov           163.931199\n",
       "Private             161.068382\n",
       "State-gov           156.126348\n",
       "Without-pay         130.857143\n",
       "?                   127.677560\n",
       "Never-worked        113.714286\n",
       "Name: hour-per-month, dtype: float64"
      ]
     },
     "execution_count": 11,
     "metadata": {},
     "output_type": "execute_result"
    }
   ],
   "source": [
    "df.groupby(\"workclass\")[\"hour-per-month\"].mean().sort_values(ascending=False) # atributo categorico, atributo numerico e depois operação (função agregadora)"
   ]
  },
  {
   "cell_type": "code",
   "execution_count": 13,
   "id": "07e39f1c",
   "metadata": {},
   "outputs": [
    {
     "data": {
      "text/plain": [
       "workclass\n",
       "?                    1\n",
       "Private              1\n",
       "Self-emp-inc         1\n",
       "Self-emp-not-inc     1\n",
       "State-gov            1\n",
       "Local-gov            2\n",
       "Federal-gov          4\n",
       "Never-worked         4\n",
       "Without-pay         10\n",
       "Name: hour-per-week, dtype: int64"
      ]
     },
     "execution_count": 13,
     "metadata": {},
     "output_type": "execute_result"
    }
   ],
   "source": [
    "df.groupby(\"workclass\")['hour-per-week'].min().sort_values(ascending=True)"
   ]
  },
  {
   "cell_type": "code",
   "execution_count": 17,
   "id": "2b1009e7",
   "metadata": {},
   "outputs": [
    {
     "data": {
      "text/plain": [
       "income  workclass       \n",
       ">50K    Self-emp-inc        50.15\n",
       "<=50K   Self-emp-inc        47.14\n",
       ">50K    Self-emp-not-inc    46.69\n",
       "        Private             45.50\n",
       "        State-gov           44.19\n",
       "        Local-gov           43.96\n",
       "<=50K   Self-emp-not-inc    43.52\n",
       ">50K    Federal-gov         43.42\n",
       "<=50K   Federal-gov         40.09\n",
       "        Local-gov           39.74\n",
       "        Private             38.80\n",
       "        State-gov           37.11\n",
       ">50K    ?                   36.15\n",
       "<=50K   Without-pay         32.71\n",
       "        ?                   31.43\n",
       "        Never-worked        28.43\n",
       "Name: hour-per-week, dtype: float64"
      ]
     },
     "execution_count": 17,
     "metadata": {},
     "output_type": "execute_result"
    }
   ],
   "source": [
    "df.groupby([\"income\", \"workclass\"])[\"hour-per-week\"].mean().round(2).sort_values(ascending=False) # usando 2 variaveis"
   ]
  },
  {
   "cell_type": "code",
   "execution_count": 19,
   "id": "c9b7708a",
   "metadata": {},
   "outputs": [
    {
     "data": {
      "text/plain": [
       "income  workclass       \n",
       ">50K    State-gov           12.92\n",
       "        Local-gov           12.15\n",
       "        Self-emp-inc        11.88\n",
       "        Federal-gov         11.75\n",
       "        Self-emp-not-inc    11.55\n",
       "        Private             11.43\n",
       "        ?                   11.30\n",
       "<=50K   State-gov           10.80\n",
       "        Local-gov           10.58\n",
       "        Federal-gov         10.48\n",
       "        Self-emp-inc        10.20\n",
       "        Self-emp-not-inc     9.70\n",
       "        Private              9.45\n",
       "        Without-pay          9.07\n",
       "        ?                    9.02\n",
       "        Never-worked         7.43\n",
       "Name: education-num, dtype: float64"
      ]
     },
     "execution_count": 19,
     "metadata": {},
     "output_type": "execute_result"
    }
   ],
   "source": [
    "df.groupby([\"income\", \"workclass\"])[\"education-num\"].mean().round(2).sort_values(ascending=False)"
   ]
  },
  {
   "cell_type": "code",
   "execution_count": 51,
   "id": "338e52c7",
   "metadata": {},
   "outputs": [
    {
     "data": {
      "text/plain": [
       "income  workclass       \n",
       ">50K    Self-emp-inc        50.154341\n",
       "<=50K   Self-emp-inc        47.135628\n",
       ">50K    Self-emp-not-inc    46.691989\n",
       "        Private             45.500907\n",
       "        State-gov           44.186969\n",
       "        Local-gov           43.956240\n",
       "<=50K   Self-emp-not-inc    43.517336\n",
       ">50K    Federal-gov         43.420485\n",
       "<=50K   Federal-gov         40.093379\n",
       "        Local-gov           39.739837\n",
       "        Private             38.802290\n",
       "        State-gov           37.105820\n",
       ">50K    ?                   36.146597\n",
       "<=50K   Without-pay         32.714286\n",
       "        ?                   31.428571\n",
       "        Never-worked        28.428571\n",
       "Name: hour-per-week, dtype: float64"
      ]
     },
     "execution_count": 51,
     "metadata": {},
     "output_type": "execute_result"
    }
   ],
   "source": [
    "grupo = df.groupby([\"income\", \"workclass\"])[\"hour-per-week\"].mean().sort_values(ascending=False)\n",
    "grupo"
   ]
  },
  {
   "cell_type": "code",
   "execution_count": null,
   "id": "c74507ae",
   "metadata": {},
   "outputs": [],
   "source": [
    "filtro = \" <=50K\""
   ]
  },
  {
   "cell_type": "code",
   "execution_count": 33,
   "id": "e390a8d6",
   "metadata": {},
   "outputs": [
    {
     "data": {
      "text/plain": [
       "workclass\n",
       "Self-emp-inc        47.135628\n",
       "Self-emp-not-inc    43.517336\n",
       "Federal-gov         40.093379\n",
       "Local-gov           39.739837\n",
       "Private             38.802290\n",
       "State-gov           37.105820\n",
       "Without-pay         32.714286\n",
       "?                   31.428571\n",
       "Never-worked        28.428571\n",
       "Name: hour-per-week, dtype: float64"
      ]
     },
     "execution_count": 33,
     "metadata": {},
     "output_type": "execute_result"
    }
   ],
   "source": [
    "grupo.loc[\" <=50K\"]"
   ]
  },
  {
   "cell_type": "code",
   "execution_count": 43,
   "id": "55ec149a",
   "metadata": {},
   "outputs": [
    {
     "data": {
      "text/plain": [
       "workclass\n",
       "Federal-gov     40.093379\n",
       "Local-gov       39.739837\n",
       "Private         38.802290\n",
       "State-gov       37.105820\n",
       "Without-pay     32.714286\n",
       "?               31.428571\n",
       "Never-worked    28.428571\n",
       "Name: hour-per-week, dtype: float64"
      ]
     },
     "execution_count": 43,
     "metadata": {},
     "output_type": "execute_result"
    }
   ],
   "source": [
    "grupo.loc[\" <=50K\"][\" Federal-gov\":\" Never-worked\"]"
   ]
  },
  {
   "cell_type": "code",
   "execution_count": 56,
   "id": "86399ef5",
   "metadata": {},
   "outputs": [
    {
     "data": {
      "text/html": [
       "<div>\n",
       "<style scoped>\n",
       "    .dataframe tbody tr th:only-of-type {\n",
       "        vertical-align: middle;\n",
       "    }\n",
       "\n",
       "    .dataframe tbody tr th {\n",
       "        vertical-align: top;\n",
       "    }\n",
       "\n",
       "    .dataframe thead th {\n",
       "        text-align: right;\n",
       "    }\n",
       "</style>\n",
       "<table border=\"1\" class=\"dataframe\">\n",
       "  <thead>\n",
       "    <tr style=\"text-align: right;\">\n",
       "      <th></th>\n",
       "      <th>income</th>\n",
       "      <th>workclass</th>\n",
       "      <th>hour-per-week</th>\n",
       "    </tr>\n",
       "  </thead>\n",
       "  <tbody>\n",
       "    <tr>\n",
       "      <th>0</th>\n",
       "      <td>&lt;=50K</td>\n",
       "      <td>?</td>\n",
       "      <td>31.43</td>\n",
       "    </tr>\n",
       "    <tr>\n",
       "      <th>1</th>\n",
       "      <td>&lt;=50K</td>\n",
       "      <td>Federal-gov</td>\n",
       "      <td>40.09</td>\n",
       "    </tr>\n",
       "    <tr>\n",
       "      <th>2</th>\n",
       "      <td>&lt;=50K</td>\n",
       "      <td>Local-gov</td>\n",
       "      <td>39.74</td>\n",
       "    </tr>\n",
       "    <tr>\n",
       "      <th>3</th>\n",
       "      <td>&lt;=50K</td>\n",
       "      <td>Never-worked</td>\n",
       "      <td>28.43</td>\n",
       "    </tr>\n",
       "    <tr>\n",
       "      <th>4</th>\n",
       "      <td>&lt;=50K</td>\n",
       "      <td>Private</td>\n",
       "      <td>38.80</td>\n",
       "    </tr>\n",
       "    <tr>\n",
       "      <th>5</th>\n",
       "      <td>&lt;=50K</td>\n",
       "      <td>Self-emp-inc</td>\n",
       "      <td>47.14</td>\n",
       "    </tr>\n",
       "    <tr>\n",
       "      <th>6</th>\n",
       "      <td>&lt;=50K</td>\n",
       "      <td>Self-emp-not-inc</td>\n",
       "      <td>43.52</td>\n",
       "    </tr>\n",
       "    <tr>\n",
       "      <th>7</th>\n",
       "      <td>&lt;=50K</td>\n",
       "      <td>State-gov</td>\n",
       "      <td>37.11</td>\n",
       "    </tr>\n",
       "    <tr>\n",
       "      <th>8</th>\n",
       "      <td>&lt;=50K</td>\n",
       "      <td>Without-pay</td>\n",
       "      <td>32.71</td>\n",
       "    </tr>\n",
       "    <tr>\n",
       "      <th>9</th>\n",
       "      <td>&gt;50K</td>\n",
       "      <td>?</td>\n",
       "      <td>36.15</td>\n",
       "    </tr>\n",
       "    <tr>\n",
       "      <th>10</th>\n",
       "      <td>&gt;50K</td>\n",
       "      <td>Federal-gov</td>\n",
       "      <td>43.42</td>\n",
       "    </tr>\n",
       "    <tr>\n",
       "      <th>11</th>\n",
       "      <td>&gt;50K</td>\n",
       "      <td>Local-gov</td>\n",
       "      <td>43.96</td>\n",
       "    </tr>\n",
       "    <tr>\n",
       "      <th>12</th>\n",
       "      <td>&gt;50K</td>\n",
       "      <td>Private</td>\n",
       "      <td>45.50</td>\n",
       "    </tr>\n",
       "    <tr>\n",
       "      <th>13</th>\n",
       "      <td>&gt;50K</td>\n",
       "      <td>Self-emp-inc</td>\n",
       "      <td>50.15</td>\n",
       "    </tr>\n",
       "    <tr>\n",
       "      <th>14</th>\n",
       "      <td>&gt;50K</td>\n",
       "      <td>Self-emp-not-inc</td>\n",
       "      <td>46.69</td>\n",
       "    </tr>\n",
       "    <tr>\n",
       "      <th>15</th>\n",
       "      <td>&gt;50K</td>\n",
       "      <td>State-gov</td>\n",
       "      <td>44.19</td>\n",
       "    </tr>\n",
       "  </tbody>\n",
       "</table>\n",
       "</div>"
      ],
      "text/plain": [
       "    income          workclass  hour-per-week\n",
       "0    <=50K                  ?          31.43\n",
       "1    <=50K        Federal-gov          40.09\n",
       "2    <=50K          Local-gov          39.74\n",
       "3    <=50K       Never-worked          28.43\n",
       "4    <=50K            Private          38.80\n",
       "5    <=50K       Self-emp-inc          47.14\n",
       "6    <=50K   Self-emp-not-inc          43.52\n",
       "7    <=50K          State-gov          37.11\n",
       "8    <=50K        Without-pay          32.71\n",
       "9     >50K                  ?          36.15\n",
       "10    >50K        Federal-gov          43.42\n",
       "11    >50K          Local-gov          43.96\n",
       "12    >50K            Private          45.50\n",
       "13    >50K       Self-emp-inc          50.15\n",
       "14    >50K   Self-emp-not-inc          46.69\n",
       "15    >50K          State-gov          44.19"
      ]
     },
     "execution_count": 56,
     "metadata": {},
     "output_type": "execute_result"
    }
   ],
   "source": [
    "grupo = df.groupby([\"income\", \"workclass\"], as_index=False)[\"hour-per-week\"].mean().round(2).sort_index()\n",
    "grupo"
   ]
  },
  {
   "cell_type": "code",
   "execution_count": 67,
   "id": "2a58a8ea",
   "metadata": {},
   "outputs": [
    {
     "data": {
      "text/html": [
       "<div>\n",
       "<style scoped>\n",
       "    .dataframe tbody tr th:only-of-type {\n",
       "        vertical-align: middle;\n",
       "    }\n",
       "\n",
       "    .dataframe tbody tr th {\n",
       "        vertical-align: top;\n",
       "    }\n",
       "\n",
       "    .dataframe thead th {\n",
       "        text-align: right;\n",
       "    }\n",
       "</style>\n",
       "<table border=\"1\" class=\"dataframe\">\n",
       "  <thead>\n",
       "    <tr style=\"text-align: right;\">\n",
       "      <th></th>\n",
       "      <th>income</th>\n",
       "      <th>workclass</th>\n",
       "      <th>hour-per-week</th>\n",
       "    </tr>\n",
       "  </thead>\n",
       "  <tbody>\n",
       "    <tr>\n",
       "      <th>0</th>\n",
       "      <td>&lt;=50K</td>\n",
       "      <td>?</td>\n",
       "      <td>31.43</td>\n",
       "    </tr>\n",
       "    <tr>\n",
       "      <th>1</th>\n",
       "      <td>&lt;=50K</td>\n",
       "      <td>Federal-gov</td>\n",
       "      <td>40.09</td>\n",
       "    </tr>\n",
       "    <tr>\n",
       "      <th>2</th>\n",
       "      <td>&lt;=50K</td>\n",
       "      <td>Local-gov</td>\n",
       "      <td>39.74</td>\n",
       "    </tr>\n",
       "    <tr>\n",
       "      <th>3</th>\n",
       "      <td>&lt;=50K</td>\n",
       "      <td>Never-worked</td>\n",
       "      <td>28.43</td>\n",
       "    </tr>\n",
       "    <tr>\n",
       "      <th>4</th>\n",
       "      <td>&lt;=50K</td>\n",
       "      <td>Private</td>\n",
       "      <td>38.80</td>\n",
       "    </tr>\n",
       "    <tr>\n",
       "      <th>5</th>\n",
       "      <td>&lt;=50K</td>\n",
       "      <td>Self-emp-inc</td>\n",
       "      <td>47.14</td>\n",
       "    </tr>\n",
       "    <tr>\n",
       "      <th>6</th>\n",
       "      <td>&lt;=50K</td>\n",
       "      <td>Self-emp-not-inc</td>\n",
       "      <td>43.52</td>\n",
       "    </tr>\n",
       "    <tr>\n",
       "      <th>7</th>\n",
       "      <td>&lt;=50K</td>\n",
       "      <td>State-gov</td>\n",
       "      <td>37.11</td>\n",
       "    </tr>\n",
       "    <tr>\n",
       "      <th>8</th>\n",
       "      <td>&lt;=50K</td>\n",
       "      <td>Without-pay</td>\n",
       "      <td>32.71</td>\n",
       "    </tr>\n",
       "    <tr>\n",
       "      <th>9</th>\n",
       "      <td>&gt;50K</td>\n",
       "      <td>?</td>\n",
       "      <td>36.15</td>\n",
       "    </tr>\n",
       "    <tr>\n",
       "      <th>10</th>\n",
       "      <td>&gt;50K</td>\n",
       "      <td>Federal-gov</td>\n",
       "      <td>43.42</td>\n",
       "    </tr>\n",
       "    <tr>\n",
       "      <th>11</th>\n",
       "      <td>&gt;50K</td>\n",
       "      <td>Local-gov</td>\n",
       "      <td>43.96</td>\n",
       "    </tr>\n",
       "    <tr>\n",
       "      <th>12</th>\n",
       "      <td>&gt;50K</td>\n",
       "      <td>Private</td>\n",
       "      <td>45.50</td>\n",
       "    </tr>\n",
       "    <tr>\n",
       "      <th>13</th>\n",
       "      <td>&gt;50K</td>\n",
       "      <td>Self-emp-inc</td>\n",
       "      <td>50.15</td>\n",
       "    </tr>\n",
       "    <tr>\n",
       "      <th>14</th>\n",
       "      <td>&gt;50K</td>\n",
       "      <td>Self-emp-not-inc</td>\n",
       "      <td>46.69</td>\n",
       "    </tr>\n",
       "    <tr>\n",
       "      <th>15</th>\n",
       "      <td>&gt;50K</td>\n",
       "      <td>State-gov</td>\n",
       "      <td>44.19</td>\n",
       "    </tr>\n",
       "  </tbody>\n",
       "</table>\n",
       "</div>"
      ],
      "text/plain": [
       "    income          workclass  hour-per-week\n",
       "0    <=50K                  ?          31.43\n",
       "1    <=50K        Federal-gov          40.09\n",
       "2    <=50K          Local-gov          39.74\n",
       "3    <=50K       Never-worked          28.43\n",
       "4    <=50K            Private          38.80\n",
       "5    <=50K       Self-emp-inc          47.14\n",
       "6    <=50K   Self-emp-not-inc          43.52\n",
       "7    <=50K          State-gov          37.11\n",
       "8    <=50K        Without-pay          32.71\n",
       "9     >50K                  ?          36.15\n",
       "10    >50K        Federal-gov          43.42\n",
       "11    >50K          Local-gov          43.96\n",
       "12    >50K            Private          45.50\n",
       "13    >50K       Self-emp-inc          50.15\n",
       "14    >50K   Self-emp-not-inc          46.69\n",
       "15    >50K          State-gov          44.19"
      ]
     },
     "execution_count": 67,
     "metadata": {},
     "output_type": "execute_result"
    }
   ],
   "source": [
    "grupo"
   ]
  },
  {
   "cell_type": "code",
   "execution_count": null,
   "id": "064cf0c6",
   "metadata": {},
   "outputs": [
    {
     "data": {
      "text/html": [
       "<div>\n",
       "<style scoped>\n",
       "    .dataframe tbody tr th:only-of-type {\n",
       "        vertical-align: middle;\n",
       "    }\n",
       "\n",
       "    .dataframe tbody tr th {\n",
       "        vertical-align: top;\n",
       "    }\n",
       "\n",
       "    .dataframe thead th {\n",
       "        text-align: right;\n",
       "    }\n",
       "</style>\n",
       "<table border=\"1\" class=\"dataframe\">\n",
       "  <thead>\n",
       "    <tr style=\"text-align: right;\">\n",
       "      <th></th>\n",
       "      <th>income</th>\n",
       "      <th>workclass</th>\n",
       "      <th>hour-per-week</th>\n",
       "    </tr>\n",
       "  </thead>\n",
       "  <tbody>\n",
       "    <tr>\n",
       "      <th>1</th>\n",
       "      <td>&lt;=50K</td>\n",
       "      <td>Federal-gov</td>\n",
       "      <td>40.09</td>\n",
       "    </tr>\n",
       "    <tr>\n",
       "      <th>10</th>\n",
       "      <td>&gt;50K</td>\n",
       "      <td>Federal-gov</td>\n",
       "      <td>43.42</td>\n",
       "    </tr>\n",
       "  </tbody>\n",
       "</table>\n",
       "</div>"
      ],
      "text/plain": [
       "    income     workclass  hour-per-week\n",
       "1    <=50K   Federal-gov          40.09\n",
       "10    >50K   Federal-gov          43.42"
      ]
     },
     "execution_count": 70,
     "metadata": {},
     "output_type": "execute_result"
    }
   ],
   "source": [
    "grupo.query(\"workclass == ' Federal-gov'\") # ta pegando da tabela acima"
   ]
  },
  {
   "cell_type": "code",
   "execution_count": null,
   "id": "67c20730",
   "metadata": {},
   "outputs": [],
   "source": []
  }
 ],
 "metadata": {
  "kernelspec": {
   "display_name": "base",
   "language": "python",
   "name": "python3"
  },
  "language_info": {
   "codemirror_mode": {
    "name": "ipython",
    "version": 3
   },
   "file_extension": ".py",
   "mimetype": "text/x-python",
   "name": "python",
   "nbconvert_exporter": "python",
   "pygments_lexer": "ipython3",
   "version": "3.12.7"
  }
 },
 "nbformat": 4,
 "nbformat_minor": 5
}
