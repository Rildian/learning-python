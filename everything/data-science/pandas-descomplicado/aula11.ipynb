{
 "cells": [
  {
   "cell_type": "code",
   "execution_count": null,
   "id": "2e24301c",
   "metadata": {},
   "outputs": [],
   "source": [
    "import pandas as pd\n",
    "import numpy as np"
   ]
  },
  {
   "cell_type": "code",
   "execution_count": null,
   "id": "06b47d9c",
   "metadata": {},
   "outputs": [],
   "source": [
    "df = pd.read_csv('census.csv')"
   ]
  },
  {
   "cell_type": "code",
   "execution_count": null,
   "id": "58358ab5",
   "metadata": {},
   "outputs": [],
   "source": [
    "df['age']"
   ]
  },
  {
   "cell_type": "code",
   "execution_count": null,
   "id": "173fa82d",
   "metadata": {},
   "outputs": [],
   "source": [
    "df['age']"
   ]
  },
  {
   "cell_type": "code",
   "execution_count": null,
   "id": "4905582b",
   "metadata": {},
   "outputs": [],
   "source": [
    "df['age'].min()\n",
    "df['age'].mean()\n",
    "df['age'].std()"
   ]
  },
  {
   "cell_type": "code",
   "execution_count": null,
   "id": "2e77b3b8",
   "metadata": {},
   "outputs": [],
   "source": [
    "df['age'].iloc[0:5]"
   ]
  },
  {
   "cell_type": "code",
   "execution_count": null,
   "id": "7c8275e6",
   "metadata": {},
   "outputs": [],
   "source": [
    "df[[\"age\", \"education\"]] # tem que ser especificamente assim"
   ]
  },
  {
   "cell_type": "code",
   "execution_count": null,
   "id": "7e325790",
   "metadata": {},
   "outputs": [],
   "source": [
    "df.iloc[0:4, 0:4] # linha, coluna, escolher da linha 0:4, escolher d acoluna 0:4"
   ]
  },
  {
   "cell_type": "code",
   "execution_count": null,
   "id": "9d903ac3",
   "metadata": {},
   "outputs": [],
   "source": [
    "df.iloc[0:4, 0:7]"
   ]
  },
  {
   "cell_type": "code",
   "execution_count": null,
   "id": "57980f26",
   "metadata": {},
   "outputs": [],
   "source": [
    "df.iloc[0:4, ::]"
   ]
  },
  {
   "cell_type": "code",
   "execution_count": null,
   "id": "dd811582",
   "metadata": {},
   "outputs": [],
   "source": [
    "df.iloc[0:10, [3, 5, 7]] # 10 linhas e 3 colunas, colunas esass que foram selecionadas a dedo por exemplo"
   ]
  },
  {
   "cell_type": "code",
   "execution_count": null,
   "id": "27468d27",
   "metadata": {},
   "outputs": [],
   "source": [
    "df.loc[:, 'education']"
   ]
  },
  {
   "cell_type": "code",
   "execution_count": null,
   "id": "d6808123",
   "metadata": {},
   "outputs": [],
   "source": [
    "df.loc[::, [\"age\", \"education\", \"relationship\"]] # todas as linhas  ee ssas colunas especificas"
   ]
  },
  {
   "cell_type": "code",
   "execution_count": null,
   "id": "552fd80a",
   "metadata": {},
   "outputs": [],
   "source": [
    "df.loc[0:10, \"education\":\"income\"] # n usa [[education:income]] pq isso aq são linhas e colunas isoladas"
   ]
  }
 ],
 "metadata": {
  "kernelspec": {
   "display_name": "base",
   "language": "python",
   "name": "python3"
  },
  "language_info": {
   "codemirror_mode": {
    "name": "ipython",
    "version": 3
   },
   "file_extension": ".py",
   "mimetype": "text/x-python",
   "name": "python",
   "nbconvert_exporter": "python",
   "pygments_lexer": "ipython3",
   "version": "3.12.7"
  }
 },
 "nbformat": 4,
 "nbformat_minor": 5
}
